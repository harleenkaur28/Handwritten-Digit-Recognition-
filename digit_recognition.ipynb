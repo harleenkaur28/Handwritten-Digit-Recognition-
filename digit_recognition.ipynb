{
 "cells": [
  {
   "cell_type": "code",
   "execution_count": 1,
   "id": "1858e1e5",
   "metadata": {},
   "outputs": [],
   "source": [
    "import cv2 as cv\n",
    "import numpy as np\n",
    "import tensorflow as tf"
   ]
  },
  {
   "cell_type": "code",
   "execution_count": 2,
   "id": "1898a6d3",
   "metadata": {},
   "outputs": [],
   "source": [
    "model = tf.keras.models.load_model('digits.keras')   \n",
    "img = cv.imread('/Users/harleen/Desktop/Codes/Python/Handwritten Digit GIT/5.jpeg', cv.IMREAD_GRAYSCALE)     #Add the full path of the file(5.jpeg or 3.png) here \n",
    "img = cv.resize(img, (28, 28))\n",
    "img = np.invert(img)\n",
    "img = img / 255.0\n",
    "img = img.reshape(1, 28, 28) "
   ]
  },
  {
   "cell_type": "code",
   "execution_count": 3,
   "id": "6a6bb215",
   "metadata": {},
   "outputs": [
    {
     "name": "stdout",
     "output_type": "stream",
     "text": [
      "\u001b[1m1/1\u001b[0m \u001b[32m━━━━━━━━━━━━━━━━━━━━\u001b[0m\u001b[37m\u001b[0m \u001b[1m0s\u001b[0m 75ms/step\n",
      "The predicted result is  5\n"
     ]
    }
   ],
   "source": [
    "prediction = model.predict(img)\n",
    "print(\"The predicted result is \", np.argmax(prediction))"
   ]
  }
 ],
 "metadata": {
  "kernelspec": {
   "display_name": "Python 3 (ipykernel)",
   "language": "python",
   "name": "python3"
  },
  "language_info": {
   "codemirror_mode": {
    "name": "ipython",
    "version": 3
   },
   "file_extension": ".py",
   "mimetype": "text/x-python",
   "name": "python",
   "nbconvert_exporter": "python",
   "pygments_lexer": "ipython3",
   "version": "3.12.1"
  }
 },
 "nbformat": 4,
 "nbformat_minor": 5
}
